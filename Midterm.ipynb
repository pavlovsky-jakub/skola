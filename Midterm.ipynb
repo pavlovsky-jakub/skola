{
 "cells": [
  {
   "cell_type": "code",
   "execution_count": 8,
   "metadata": {},
   "outputs": [
    {
     "name": "stdout",
     "output_type": "stream",
     "text": [
      "hello world\n"
     ]
    }
   ],
   "source": [
    "print(\"hello world\")"
   ]
  },
  {
   "cell_type": "code",
   "execution_count": 9,
   "metadata": {},
   "outputs": [],
   "source": [
    "import os\n",
    "import numpy as np\n",
    "import csv \n",
    "import pandas as pd\n",
    "import seaborn as sns\n",
    "import matplotlib.pyplot as plt\n",
    "import jinja2"
   ]
  },
  {
   "cell_type": "markdown",
   "metadata": {},
   "source": [
    "import sys"
   ]
  },
  {
   "cell_type": "code",
   "execution_count": 32,
   "metadata": {},
   "outputs": [],
   "source": [
    "BWA = pd.read_csv('data/BWA.csv', sep = ',', on_bad_lines= 'skip')"
   ]
  },
  {
   "cell_type": "code",
   "execution_count": 34,
   "metadata": {},
   "outputs": [
    {
     "data": {
      "text/html": [
       "<div>\n",
       "<style scoped>\n",
       "    .dataframe tbody tr th:only-of-type {\n",
       "        vertical-align: middle;\n",
       "    }\n",
       "\n",
       "    .dataframe tbody tr th {\n",
       "        vertical-align: top;\n",
       "    }\n",
       "\n",
       "    .dataframe thead th {\n",
       "        text-align: right;\n",
       "    }\n",
       "</style>\n",
       "<table border=\"1\" class=\"dataframe\">\n",
       "  <thead>\n",
       "    <tr style=\"text-align: right;\">\n",
       "      <th></th>\n",
       "      <th>Date</th>\n",
       "      <th>High</th>\n",
       "      <th>Low</th>\n",
       "      <th>Open</th>\n",
       "      <th>Close</th>\n",
       "      <th>Volume</th>\n",
       "      <th>Adj Close</th>\n",
       "    </tr>\n",
       "  </thead>\n",
       "  <tbody>\n",
       "    <tr>\n",
       "      <th>0</th>\n",
       "      <td>2017-11-13</td>\n",
       "      <td>52.259998</td>\n",
       "      <td>51.580002</td>\n",
       "      <td>51.770000</td>\n",
       "      <td>52.029999</td>\n",
       "      <td>923000.0</td>\n",
       "      <td>47.885578</td>\n",
       "    </tr>\n",
       "    <tr>\n",
       "      <th>1</th>\n",
       "      <td>2017-11-14</td>\n",
       "      <td>52.380001</td>\n",
       "      <td>51.650002</td>\n",
       "      <td>51.849998</td>\n",
       "      <td>52.070000</td>\n",
       "      <td>1448900.0</td>\n",
       "      <td>47.922390</td>\n",
       "    </tr>\n",
       "    <tr>\n",
       "      <th>2</th>\n",
       "      <td>2017-11-15</td>\n",
       "      <td>52.000000</td>\n",
       "      <td>51.250000</td>\n",
       "      <td>51.610001</td>\n",
       "      <td>51.680000</td>\n",
       "      <td>1063600.0</td>\n",
       "      <td>47.563442</td>\n",
       "    </tr>\n",
       "    <tr>\n",
       "      <th>3</th>\n",
       "      <td>2017-11-16</td>\n",
       "      <td>52.169998</td>\n",
       "      <td>51.560001</td>\n",
       "      <td>51.919998</td>\n",
       "      <td>52.040001</td>\n",
       "      <td>1130400.0</td>\n",
       "      <td>47.894783</td>\n",
       "    </tr>\n",
       "    <tr>\n",
       "      <th>4</th>\n",
       "      <td>2017-11-17</td>\n",
       "      <td>52.150002</td>\n",
       "      <td>51.540001</td>\n",
       "      <td>51.730000</td>\n",
       "      <td>51.939999</td>\n",
       "      <td>1875900.0</td>\n",
       "      <td>47.802738</td>\n",
       "    </tr>\n",
       "    <tr>\n",
       "      <th>...</th>\n",
       "      <td>...</td>\n",
       "      <td>...</td>\n",
       "      <td>...</td>\n",
       "      <td>...</td>\n",
       "      <td>...</td>\n",
       "      <td>...</td>\n",
       "      <td>...</td>\n",
       "    </tr>\n",
       "    <tr>\n",
       "      <th>1254</th>\n",
       "      <td>2022-11-07</td>\n",
       "      <td>38.410000</td>\n",
       "      <td>37.419998</td>\n",
       "      <td>38.349998</td>\n",
       "      <td>38.259998</td>\n",
       "      <td>1549300.0</td>\n",
       "      <td>38.259998</td>\n",
       "    </tr>\n",
       "    <tr>\n",
       "      <th>1255</th>\n",
       "      <td>2022-11-08</td>\n",
       "      <td>39.099998</td>\n",
       "      <td>38.189999</td>\n",
       "      <td>38.410000</td>\n",
       "      <td>38.849998</td>\n",
       "      <td>2660700.0</td>\n",
       "      <td>38.849998</td>\n",
       "    </tr>\n",
       "    <tr>\n",
       "      <th>1256</th>\n",
       "      <td>2022-11-09</td>\n",
       "      <td>39.060001</td>\n",
       "      <td>38.349998</td>\n",
       "      <td>38.360001</td>\n",
       "      <td>38.540001</td>\n",
       "      <td>1807800.0</td>\n",
       "      <td>38.540001</td>\n",
       "    </tr>\n",
       "    <tr>\n",
       "      <th>1257</th>\n",
       "      <td>2022-11-10</td>\n",
       "      <td>41.040001</td>\n",
       "      <td>40.000000</td>\n",
       "      <td>40.000000</td>\n",
       "      <td>40.970001</td>\n",
       "      <td>2085600.0</td>\n",
       "      <td>40.970001</td>\n",
       "    </tr>\n",
       "    <tr>\n",
       "      <th>1258</th>\n",
       "      <td>2022-11-11</td>\n",
       "      <td>42.639999</td>\n",
       "      <td>41.009998</td>\n",
       "      <td>41.160000</td>\n",
       "      <td>42.419998</td>\n",
       "      <td>2438200.0</td>\n",
       "      <td>42.419998</td>\n",
       "    </tr>\n",
       "  </tbody>\n",
       "</table>\n",
       "<p>1259 rows × 7 columns</p>\n",
       "</div>"
      ],
      "text/plain": [
       "            Date       High        Low       Open      Close     Volume  \\\n",
       "0     2017-11-13  52.259998  51.580002  51.770000  52.029999   923000.0   \n",
       "1     2017-11-14  52.380001  51.650002  51.849998  52.070000  1448900.0   \n",
       "2     2017-11-15  52.000000  51.250000  51.610001  51.680000  1063600.0   \n",
       "3     2017-11-16  52.169998  51.560001  51.919998  52.040001  1130400.0   \n",
       "4     2017-11-17  52.150002  51.540001  51.730000  51.939999  1875900.0   \n",
       "...          ...        ...        ...        ...        ...        ...   \n",
       "1254  2022-11-07  38.410000  37.419998  38.349998  38.259998  1549300.0   \n",
       "1255  2022-11-08  39.099998  38.189999  38.410000  38.849998  2660700.0   \n",
       "1256  2022-11-09  39.060001  38.349998  38.360001  38.540001  1807800.0   \n",
       "1257  2022-11-10  41.040001  40.000000  40.000000  40.970001  2085600.0   \n",
       "1258  2022-11-11  42.639999  41.009998  41.160000  42.419998  2438200.0   \n",
       "\n",
       "      Adj Close  \n",
       "0     47.885578  \n",
       "1     47.922390  \n",
       "2     47.563442  \n",
       "3     47.894783  \n",
       "4     47.802738  \n",
       "...         ...  \n",
       "1254  38.259998  \n",
       "1255  38.849998  \n",
       "1256  38.540001  \n",
       "1257  40.970001  \n",
       "1258  42.419998  \n",
       "\n",
       "[1259 rows x 7 columns]"
      ]
     },
     "execution_count": 34,
     "metadata": {},
     "output_type": "execute_result"
    }
   ],
   "source": [
    "BWA"
   ]
  },
  {
   "cell_type": "code",
   "execution_count": 33,
   "metadata": {},
   "outputs": [],
   "source": [
    "EPAM= pd.read_csv('data/EPAM.csv', sep = ',', on_bad_lines= 'skip')\n",
    "GOOGL= pd.read_csv('data/GOOGL.csv', sep = ',', on_bad_lines= 'skip')\n",
    "IPG = pd.read_csv('data/IPG.csv', sep = ',', on_bad_lines= 'skip')\n",
    "ITW = pd.read_csv('data/ITW.csv', sep = ',', on_bad_lines= 'skip')\n"
   ]
  },
  {
   "cell_type": "code",
   "execution_count": 35,
   "metadata": {},
   "outputs": [],
   "source": [
    "BWA = BWA.set_index(['Date']) \n",
    "EPAM = EPAM.set_index(['Date']) \n",
    "GOOGL = GOOGL.set_index(['Date']) \n",
    "IPG = IPG.set_index(['Date']) \n",
    "ITW = ITW.set_index(['Date']) "
   ]
  },
  {
   "cell_type": "code",
   "execution_count": 36,
   "metadata": {},
   "outputs": [],
   "source": [
    "\n",
    "BWA [\"company\"] = \"BWA\"\n",
    "EPAM [\"company\"] = \"EPAM\"\n",
    "GOOGL [\"company\"] = \"GOOGL\"\n",
    "IPG [\"company\"] = \"IPG\"\n",
    "ITW [\"company\"] = \"ITW\""
   ]
  },
  {
   "cell_type": "code",
   "execution_count": 51,
   "metadata": {},
   "outputs": [],
   "source": [
    "df = pd.merge(BWA, EPAM, left_index=True, right_index=True)\n",
    "df_1 = pd.merge(df, GOOGL, left_index=True, right_index=True)\n"
   ]
  },
  {
   "cell_type": "code",
   "execution_count": 60,
   "metadata": {},
   "outputs": [],
   "source": [
    "df_2 = df_1 = pd.merge(IPG, ITW, left_index=True, right_index=True)"
   ]
  },
  {
   "cell_type": "code",
   "execution_count": 56,
   "metadata": {},
   "outputs": [],
   "source": [
    "def add_prefix(sdf, prefix):\n",
    "\n",
    "      for c in sdf.columns:\n",
    "\n",
    "          sdf = sdf.withColumnRenamed(c, '{}{}'.format(prefix, c))\n",
    "\n",
    "      return sdf"
   ]
  },
  {
   "cell_type": "code",
   "execution_count": 63,
   "metadata": {},
   "outputs": [],
   "source": [
    "df = pd.merge(df_1, df_2, left_index=True, right_index=True)"
   ]
  },
  {
   "cell_type": "code",
   "execution_count": 71,
   "metadata": {},
   "outputs": [],
   "source": [
    "BWA_diff = BWA[\"Adj Close\"]-BWA[\"Close\"]\n",
    "EPAM_diff = EPAM[\"Adj Close\"]-EPAM[\"Close\"]\n",
    "GOOGL_diff = GOOGL[\"Adj Close\"]-GOOGL[\"Close\"]\n",
    "IPG_diff = IPG[\"Adj Close\"]-IPG[\"Close\"]\n",
    "ITW_diff = ITW[\"Adj Close\"]-ITW[\"Close\"]"
   ]
  },
  {
   "cell_type": "code",
   "execution_count": 80,
   "metadata": {},
   "outputs": [
    {
     "data": {
      "text/plain": [
       "Date\n",
       "2017-11-13   -4.144421\n",
       "2017-11-14   -4.147610\n",
       "2017-11-15   -4.116558\n",
       "2017-11-16   -4.145218\n",
       "2017-11-17   -4.137260\n",
       "                ...   \n",
       "2022-11-07    0.000000\n",
       "2022-11-08    0.000000\n",
       "2022-11-09    0.000000\n",
       "2022-11-10    0.000000\n",
       "2022-11-11    0.000000\n",
       "Length: 1259, dtype: float64"
      ]
     },
     "execution_count": 80,
     "metadata": {},
     "output_type": "execute_result"
    }
   ],
   "source": [
    "BWA_diff\n",
    "\n"
   ]
  },
  {
   "cell_type": "code",
   "execution_count": 85,
   "metadata": {},
   "outputs": [
    {
     "data": {
      "text/plain": [
       "array([0., 0., 0., ..., 0., 0., 0.])"
      ]
     },
     "execution_count": 85,
     "metadata": {},
     "output_type": "execute_result"
    }
   ],
   "source": [
    "EPAM_diff.values"
   ]
  },
  {
   "cell_type": "code",
   "execution_count": 86,
   "metadata": {},
   "outputs": [
    {
     "data": {
      "text/plain": [
       "array([0., 0., 0., ..., 0., 0., 0.])"
      ]
     },
     "execution_count": 86,
     "metadata": {},
     "output_type": "execute_result"
    }
   ],
   "source": [
    "GOOGL_diff.values\n"
   ]
  },
  {
   "cell_type": "code",
   "execution_count": 83,
   "metadata": {},
   "outputs": [
    {
     "data": {
      "text/plain": [
       "Date\n",
       "2017-11-13   -3.099907\n",
       "2017-11-14   -3.094931\n",
       "2017-11-15   -3.063379\n",
       "2017-11-16   -3.098244\n",
       "2017-11-17   -3.163004\n",
       "                ...   \n",
       "2022-11-07    0.000000\n",
       "2022-11-08    0.000000\n",
       "2022-11-09    0.000000\n",
       "2022-11-10    0.000000\n",
       "2022-11-11    0.000000\n",
       "Length: 1259, dtype: float64"
      ]
     },
     "execution_count": 83,
     "metadata": {},
     "output_type": "execute_result"
    }
   ],
   "source": [
    "IPG_diff\n"
   ]
  },
  {
   "cell_type": "code",
   "execution_count": 84,
   "metadata": {},
   "outputs": [
    {
     "data": {
      "text/plain": [
       "Date\n",
       "2017-11-13   -15.431229\n",
       "2017-11-14   -15.522293\n",
       "2017-11-15   -15.258926\n",
       "2017-11-16   -15.461594\n",
       "2017-11-17   -15.385223\n",
       "                ...    \n",
       "2022-11-07     0.000000\n",
       "2022-11-08     0.000000\n",
       "2022-11-09     0.000000\n",
       "2022-11-10     0.000000\n",
       "2022-11-11     0.000000\n",
       "Length: 1259, dtype: float64"
      ]
     },
     "execution_count": 84,
     "metadata": {},
     "output_type": "execute_result"
    }
   ],
   "source": [
    "ITW_diff"
   ]
  },
  {
   "cell_type": "code",
   "execution_count": null,
   "metadata": {},
   "outputs": [],
   "source": [
    "#EPAM and  GOOGL have the same close price and adjusted close price. It means that therewere no paying of the dividend no stock splits etc."
   ]
  },
  {
   "cell_type": "code",
   "execution_count": 97,
   "metadata": {},
   "outputs": [],
   "source": [
    "BWA_high = BWA[\"Adj Close\"].max()\n",
    "EPAM_high = EPAM[\"Adj Close\"].max()\n",
    "GOOGL_high= GOOGL[\"Adj Close\"].max()\n",
    "IPG_high = IPG[\"Adj Close\"].max()\n",
    "ITW_high = ITW[\"Adj Close\"].max()"
   ]
  },
  {
   "cell_type": "code",
   "execution_count": 102,
   "metadata": {},
   "outputs": [
    {
     "name": "stdout",
     "output_type": "stream",
     "text": [
      "53.4628791809082 717.489990234375 149.8385009765625 39.13483428955078 247.5800018310547\n"
     ]
    }
   ],
   "source": [
    "#These are the highest adjusted close prices\n",
    "print(BWA_high,EPAM_high,GOOGL_high,IPG_high,ITW_high)"
   ]
  },
  {
   "cell_type": "code",
   "execution_count": 103,
   "metadata": {},
   "outputs": [],
   "source": [
    "BWA_low = BWA[\"Adj Close\"].min()\n",
    "EPAM_low = EPAM[\"Adj Close\"].min()\n",
    "GOOGL_low= GOOGL[\"Adj Close\"].min()\n",
    "IPG_low = IPG[\"Adj Close\"].min()\n",
    "ITW_low = ITW[\"Adj Close\"].min()\n"
   ]
  },
  {
   "cell_type": "code",
   "execution_count": 104,
   "metadata": {},
   "outputs": [
    {
     "name": "stdout",
     "output_type": "stream",
     "text": [
      "18.93040657043457 97.08000183105467 49.23350143432617 11.541755676269531 109.72038269042967\n"
     ]
    }
   ],
   "source": [
    "#These are the lowest adjusted close prices\n",
    "print(BWA_low,EPAM_low,GOOGL_low,IPG_low,ITW_low)"
   ]
  },
  {
   "cell_type": "code",
   "execution_count": 111,
   "metadata": {},
   "outputs": [],
   "source": [
    "log_returns_BWA = np.log(BWA[\"Adj Close\"] / BWA[\"Adj Close\"].shift(1))\n",
    "log_returns_EPAM = np.log(EPAM[\"Adj Close\"] / EPAM[\"Adj Close\"].shift(1))\n",
    "log_returns_GOOGL = np.log(GOOGL[\"Adj Close\"] / GOOGL[\"Adj Close\"].shift(1))\n",
    "log_returns_IPG = np.log(IPG[\"Adj Close\"] / IPG[\"Adj Close\"].shift(1))\n",
    "log_returns_ITW = np.log(ITW[\"Adj Close\"] / ITW[\"Adj Close\"].shift(1))"
   ]
  },
  {
   "cell_type": "code",
   "execution_count": 117,
   "metadata": {},
   "outputs": [],
   "source": [
    "#Here are five datapoint with mean, max, median, and min for each company"
   ]
  },
  {
   "cell_type": "code",
   "execution_count": 112,
   "metadata": {},
   "outputs": [
    {
     "data": {
      "text/plain": [
       "mean     -0.000096\n",
       "median    0.000000\n",
       "amin     -0.121998\n",
       "amax      0.149779\n",
       "Name: Adj Close, dtype: float64"
      ]
     },
     "execution_count": 112,
     "metadata": {},
     "output_type": "execute_result"
    }
   ],
   "source": [
    "log_returns_BWA.aggregate([np.mean, np.median, np.min, np.max], axis = 0)"
   ]
  },
  {
   "cell_type": "code",
   "execution_count": 113,
   "metadata": {},
   "outputs": [
    {
     "data": {
      "text/plain": [
       "mean      0.001000\n",
       "median    0.002035\n",
       "amin     -0.610210\n",
       "amax      0.224636\n",
       "Name: Adj Close, dtype: float64"
      ]
     },
     "execution_count": 113,
     "metadata": {},
     "output_type": "execute_result"
    }
   ],
   "source": [
    "log_returns_EPAM.aggregate([np.mean, np.median, np.min, np.max], axis = 0)"
   ]
  },
  {
   "cell_type": "code",
   "execution_count": 114,
   "metadata": {},
   "outputs": [
    {
     "data": {
      "text/plain": [
       "mean      0.000490\n",
       "median    0.001063\n",
       "amin     -0.123685\n",
       "amax      0.091852\n",
       "Name: Adj Close, dtype: float64"
      ]
     },
     "execution_count": 114,
     "metadata": {},
     "output_type": "execute_result"
    }
   ],
   "source": [
    "log_returns_GOOGL.aggregate([np.mean, np.median, np.min, np.max], axis = 0)"
   ]
  },
  {
   "cell_type": "code",
   "execution_count": 115,
   "metadata": {},
   "outputs": [
    {
     "data": {
      "text/plain": [
       "mean      0.000585\n",
       "median    0.000953\n",
       "amin     -0.165692\n",
       "amax      0.136922\n",
       "Name: Adj Close, dtype: float64"
      ]
     },
     "execution_count": 115,
     "metadata": {},
     "output_type": "execute_result"
    }
   ],
   "source": [
    "log_returns_IPG.aggregate([np.mean, np.median, np.min, np.max], axis = 0)"
   ]
  },
  {
   "cell_type": "code",
   "execution_count": 116,
   "metadata": {},
   "outputs": [
    {
     "data": {
      "text/plain": [
       "mean      0.000370\n",
       "median    0.001040\n",
       "amin     -0.122314\n",
       "amax      0.153630\n",
       "Name: Adj Close, dtype: float64"
      ]
     },
     "execution_count": 116,
     "metadata": {},
     "output_type": "execute_result"
    }
   ],
   "source": [
    "log_returns_ITW.aggregate([np.mean, np.median, np.min, np.max], axis = 0)"
   ]
  },
  {
   "cell_type": "code",
   "execution_count": 122,
   "metadata": {},
   "outputs": [
    {
     "name": "stdout",
     "output_type": "stream",
     "text": [
      "2020-04-06\n",
      "2022-03-16\n",
      "2019-07-26\n",
      "2020-03-24\n",
      "2020-03-24\n"
     ]
    }
   ],
   "source": [
    "# HERE ARE the five days with maximal gains for each company\n",
    "\n",
    "#BWA:\n",
    "print(log_returns_BWA.idxmax())\n",
    "#EPAM:\n",
    "print(log_returns_EPAM.idxmax())\n",
    "#GOOGL:\n",
    "print(log_returns_GOOGL.idxmax())\n",
    "#IPG:\n",
    "print(log_returns_IPG.idxmax())\n",
    "#ITW:\n",
    "print(log_returns_ITW.idxmax())"
   ]
  },
  {
   "cell_type": "code",
   "execution_count": 123,
   "metadata": {},
   "outputs": [
    {
     "name": "stdout",
     "output_type": "stream",
     "text": [
      "2020-03-18\n",
      "2022-02-28\n",
      "2020-03-16\n",
      "2020-03-12\n",
      "2020-03-12\n"
     ]
    }
   ],
   "source": [
    "# HERE ARE the five days with maximal losses for each company\n",
    "\n",
    "#BWA:\n",
    "print(log_returns_BWA.idxmin())\n",
    "#EPAM:\n",
    "print(log_returns_EPAM.idxmin())\n",
    "#GOOGL:\n",
    "print(log_returns_GOOGL.idxmin())\n",
    "#IPG:\n",
    "print(log_returns_IPG.idxmin())\n",
    "#ITW:\n",
    "print(log_returns_ITW.idxmin())"
   ]
  },
  {
   "cell_type": "code",
   "execution_count": 137,
   "metadata": {},
   "outputs": [],
   "source": [
    "BWA.index = pd.to_datetime(BWA.index)\n",
    "EPAM.index = pd.to_datetime(EPAM.index)\n",
    "GOOGL.index = pd.to_datetime(GOOGL.index)\n",
    "IPG.index = pd.to_datetime(IPG.index)\n",
    "ITW.index = pd.to_datetime(ITW.index)\n"
   ]
  },
  {
   "cell_type": "code",
   "execution_count": 138,
   "metadata": {},
   "outputs": [],
   "source": [
    "weekly_BWA = BWA.resample('W').sum()\n",
    "weekly_EPAM = EPAM.resample('W').sum()\n",
    "weekly_GOOGL = GOOGL.resample('W').sum()\n",
    "weekly_IPG = IPG.resample('W').sum()\n",
    "weekly_ITW = ITW.resample('W').sum()"
   ]
  },
  {
   "cell_type": "code",
   "execution_count": 145,
   "metadata": {},
   "outputs": [
    {
     "name": "stdout",
     "output_type": "stream",
     "text": [
      "10252653.25670498\n",
      "2098647.1264367816\n",
      "170304469.348659\n",
      "19628102.681992337\n",
      "6113914.176245211\n"
     ]
    }
   ],
   "source": [
    "#average weekly volume\n",
    "#BWA:\n",
    "print(weekly_BWA [\"Volume\"].mean())\n",
    "#EPAM:\n",
    "print(weekly_EPAM [\"Volume\"].mean())\n",
    "#GOOGL:\n",
    "print(weekly_GOOGL [\"Volume\"].mean())\n",
    "#IPG:\n",
    "print(weekly_IPG [\"Volume\"].mean())\n",
    "#ITW:\n",
    "print(weekly_ITW [\"Volume\"].mean())"
   ]
  },
  {
   "cell_type": "code",
   "execution_count": 150,
   "metadata": {},
   "outputs": [
    {
     "data": {
      "text/plain": [
       "1259"
      ]
     },
     "execution_count": 150,
     "metadata": {},
     "output_type": "execute_result"
    }
   ],
   "source": [
    "len(BWA)"
   ]
  },
  {
   "cell_type": "code",
   "execution_count": 162,
   "metadata": {},
   "outputs": [
    {
     "data": {
      "text/plain": [
       "47.88557815551758"
      ]
     },
     "execution_count": 162,
     "metadata": {},
     "output_type": "execute_result"
    }
   ],
   "source": [
    "BWA[\"Adj Close\"][0]"
   ]
  },
  {
   "cell_type": "code",
   "execution_count": 165,
   "metadata": {},
   "outputs": [],
   "source": [
    "return_BWA= (BWA[\"Adj Close\"][1258]-BWA[\"Adj Close\"][0])/BWA[\"Adj Close\"][0]\n",
    "return_EPAM= (EPAM[\"Adj Close\"][1258]-EPAM[\"Adj Close\"][0])/EPAM[\"Adj Close\"][0]\n",
    "return_GOOGL= (GOOGL[\"Adj Close\"][1258]-GOOGL[\"Adj Close\"][0])/GOOGL[\"Adj Close\"][0]\n",
    "return_IPG= (IPG[\"Adj Close\"][1258]-IPG[\"Adj Close\"][0])/IPG[\"Adj Close\"][0]\n",
    "return_ITW= (ITW[\"Adj Close\"][1258]-ITW[\"Adj Close\"][0])/ITW[\"Adj Close\"][0]"
   ]
  },
  {
   "cell_type": "code",
   "execution_count": 166,
   "metadata": {},
   "outputs": [
    {
     "name": "stdout",
     "output_type": "stream",
     "text": [
      "-0.11413833135358101\n",
      "2.5189020349846145\n",
      "0.8519016734327592\n",
      "1.0866928254842791\n",
      "0.5925724321161541\n"
     ]
    }
   ],
   "source": [
    "#average weekly volume\n",
    "#BWA:\n",
    "print(return_BWA)\n",
    "#EPAM:\n",
    "print(return_EPAM)\n",
    "#GOOGL:\n",
    "print(return_GOOGL)\n",
    "#IPG:\n",
    "print(return_IPG)\n",
    "#ITW:\n",
    "print(return_ITW)\n"
   ]
  },
  {
   "cell_type": "code",
   "execution_count": 167,
   "metadata": {},
   "outputs": [],
   "source": [
    "#The highest total return was recorded by company EPAM with return 2.5189020349846145."
   ]
  },
  {
   "cell_type": "code",
   "execution_count": null,
   "metadata": {},
   "outputs": [],
   "source": [
    "\n",
    "#BWA:\n",
    "print(log_returns_BWA.idxmax())\n",
    "#EPAM:\n",
    "print(log_returns_EPAM.idxmax())\n",
    "#GOOGL:\n",
    "print(log_returns_GOOGL.idxmax())\n",
    "#IPG:\n",
    "print(log_returns_IPG.idxmax())\n",
    "#ITW:\n",
    "print(log_returns_ITW.idxmax())"
   ]
  },
  {
   "cell_type": "code",
   "execution_count": 173,
   "metadata": {},
   "outputs": [
    {
     "data": {
      "image/png": "[encoded data removed]",
      "text/plain": [
       "<Figure size 1000x600 with 1 Axes>"
      ]
     },
     "metadata": {},
     "output_type": "display_data"
    }
   ],
   "source": [
    "plt.figure(figsize=(10, 6))\n",
    "plt.plot(log_returns_BWA.index, log_returns_BWA, label=log_returns_BWA)\n",
    "plt.xlabel('Date')\n",
    "plt.ylabel('Close Price')\n",
    "plt.title(f'{\"log return\"} Close Price over Time')\n",
    "plt.legend()\n",
    "plt.show()"
   ]
  },
  {
   "cell_type": "code",
   "execution_count": null,
   "metadata": {},
   "outputs": [],
   "source": []
  }
 ],
 "metadata": {
  "kernelspec": {
   "display_name": "Python 3",
   "language": "python",
   "name": "python3"
  },
  "language_info": {
   "codemirror_mode": {
    "name": "ipython",
    "version": 3
   },
   "file_extension": ".py",
   "mimetype": "text/x-python",
   "name": "python",
   "nbconvert_exporter": "python",
   "pygments_lexer": "ipython3",
   "version": "3.8.2"
  }
 },
 "nbformat": 4,
 "nbformat_minor": 2
}
